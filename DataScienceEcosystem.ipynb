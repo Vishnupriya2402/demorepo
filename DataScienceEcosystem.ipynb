{
  "nbformat": 4,
  "nbformat_minor": 0,
  "metadata": {
    "colab": {
      "provenance": []
    },
    "kernelspec": {
      "name": "python3",
      "display_name": "Python 3"
    },
    "language_info": {
      "name": "python"
    }
  },
  "cells": [
    {
      "cell_type": "markdown",
      "source": [],
      "metadata": {
        "id": "e7FspzFFYR-Q"
      }
    },
    {
      "cell_type": "markdown",
      "source": [
        "# Data Science Tools and Ecosystem"
      ],
      "metadata": {
        "id": "uHa7Sg51YTY3"
      }
    },
    {
      "cell_type": "markdown",
      "source": [
        "In this notebook, Data Science Tools and Ecosystem are summarized."
      ],
      "metadata": {
        "id": "dEPL8B81af7r"
      }
    },
    {
      "cell_type": "markdown",
      "source": [
        "**Objectives:**\n",
        "\n",
        "\n",
        "\n",
        "*   Popular languages that data scientists use.\n",
        "*   Some of the commonly used libraries by Data Scientists .\n",
        "*   A simple arithmetic expression to multiply and add integers.\n",
        "*   Data Science Tools\n",
        "*   A simple programe to convert minutes to hours\n",
        "\n",
        "\n",
        "\n",
        "\n",
        "\n",
        "\n",
        "\n",
        "\n"
      ],
      "metadata": {
        "id": "1XTcwfcNimoU"
      }
    },
    {
      "cell_type": "markdown",
      "source": [
        "Some of the popular languages that Data Scientists use are:\n",
        "\n",
        "\n",
        "1.   Python\n",
        "2.   Julia\n",
        "3.   JavaScript\n",
        "4.   Java\n",
        "5.   SQL\n",
        "6.   C++\n",
        "7.   Ruby\n",
        "8.   Perl\n",
        "\n",
        "\n",
        "\n"
      ],
      "metadata": {
        "id": "nB25MUupatb8"
      }
    },
    {
      "cell_type": "markdown",
      "source": [
        "Some of the commonly used libraries used by Data Scientists include:\n",
        "\n",
        "\n",
        "1.   Numpy\n",
        "2.   Pandas\n",
        "3.   TensorFlow\n",
        "4.   Matplotlib\n",
        "5.   Scikit-Learn\n",
        "6.   Scipy\n",
        "7.   Keras\n",
        "8.   PyTorch\n",
        "\n"
      ],
      "metadata": {
        "id": "OP0KADi5b1Oy"
      }
    },
    {
      "cell_type": "markdown",
      "source": [
        "|Data Science Tools|\n",
        "|------------------|\n",
        "|RStudio|\n",
        "|Apache Spark|\n",
        "TensorFlow|"
      ],
      "metadata": {
        "id": "lguXkBIycQDY"
      }
    },
    {
      "cell_type": "markdown",
      "source": [
        "### Below are a few examples of evaluating arithmetic expressions in Python\n"
      ],
      "metadata": {
        "id": "y222Gc51e_lf"
      }
    },
    {
      "cell_type": "code",
      "source": [
        "#  This a simple arithmetic expression to mutiply then add integers\n",
        "\n",
        "print((3*4)+5)"
      ],
      "metadata": {
        "colab": {
          "base_uri": "https://localhost:8080/"
        },
        "id": "QOlOIGHbhJEO",
        "outputId": "e74626b3-60de-47c3-f01a-9e04ebf48da3"
      },
      "execution_count": 1,
      "outputs": [
        {
          "output_type": "stream",
          "name": "stdout",
          "text": [
            "17\n"
          ]
        }
      ]
    },
    {
      "cell_type": "code",
      "source": [
        "#  This will convert 200 minutes to hours by diving by 60\n",
        "\n",
        "minute=200\n",
        "hour=minute/60\n",
        "print(hour)"
      ],
      "metadata": {
        "colab": {
          "base_uri": "https://localhost:8080/"
        },
        "id": "NVmhd59DhoRJ",
        "outputId": "2175e809-4eff-4ba1-c8c2-17dc7891adc6"
      },
      "execution_count": 4,
      "outputs": [
        {
          "output_type": "stream",
          "name": "stdout",
          "text": [
            "3.3333333333333335\n"
          ]
        }
      ]
    },
    {
      "cell_type": "markdown",
      "source": [
        "## Author\n",
        "Vishnu Priya"
      ],
      "metadata": {
        "id": "fBgFexBok6Mo"
      }
    }
  ]
}